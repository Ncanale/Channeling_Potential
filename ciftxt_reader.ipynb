{
 "cells": [
  {
   "cell_type": "code",
   "execution_count": 49,
   "metadata": {},
   "outputs": [
    {
     "name": "stdout",
     "output_type": "stream",
     "text": [
      "['x,y,z', '1/2+x,1/2+y,1/2+z', '1/2+z,x,1/2-y', '+z,1/2+x,-y', '1/2+z,-x,y', '+z,1/2-x,1/2+y', '-z,x,1/2+y', '1/2-z,1/2+x,+y', '-z,-x,-y', '1/2-z,1/2-x,1/2-y', '1/2+y,1/2-z,-x', '+y,-z,1/2-x', '-y,1/2-z,x', '1/2-y,-z,1/2+x', '1/2-y,z,-x', '-y,1/2+z,1/2-x', 'y,z,x', '1/2+y,1/2+z,1/2+x', 'x,1/2-y,1/2+z', '1/2+x,-y,+z', '-x,y,1/2+z', '1/2-x,1/2+y,+z', 'x,1/2+y,-z', '1/2+x,+y,1/2-z', '-x,-y,-z', '1/2-x,1/2-y,1/2-z', '1/2-z,-x,1/2+y', '-z,1/2-x,+y', '1/2-z,x,-y', '-z,1/2+x,1/2-y', 'z,-x,1/2-y', '1/2+z,1/2-x,-y', 'z,x,y', '1/2+z,1/2+x,1/2+y', '1/2-y,1/2+z,x', '-y,+z,1/2+x', 'y,1/2+z,-x', '1/2+y,+z,1/2-x', '1/2+y,-z,x', '+y,1/2-z,1/2+x', '-y,-z,-x', '1/2-y,1/2-z,1/2-x', '-x,1/2+y,1/2-z', '1/2-x,+y,-z', 'x,-y,1/2-z', '1/2+x,1/2-y,-z', '-x,1/2-y,z', '1/2-x,-y,1/2+z']\n"
     ]
    }
   ],
   "source": [
    "\n",
    "file_path =r\"C:\\Users\\ricca\\Documents\\PhD\\Potentials\\SI_cif.txt.txt\"\n",
    "\n",
    "with open(file_path, \"r\") as cif:\n",
    "    lines = cif.readlines()\n",
    "a = lines[lines.index(\"_cell_length_a 6.636\"+\"\\n\")].split()[1]\n",
    "matchers = [\"_cell_length_a\", \"_cell_length_b\", \"_cell_length_c\", \"_cell_angle_alpha\", \"_cell_angle_beta\", \"_cell_angle_gamma\"]\n",
    "values = [line for line in lines if any(matcher in line for matcher in matchers)]#[0].split()[1]\n",
    "a, b, c, alfa, beta, gamma = [float(element.split()[1]) for element in values]\n",
    "#queste variabili sono grà trasformate in numero\n",
    "\n",
    "###################### ORA TOCCA AI VETTORI #######################################\n",
    "\n",
    "vectors = []\n",
    "for i, line in enumerate(lines):\n",
    "    if line.startswith(\"_space_group_symop_operation_xyz\"):\n",
    "        for j in range(i + 1, len(lines)):\n",
    "            if lines[j].startswith(\"loop_\"):\n",
    "                break\n",
    "            elif lines[j].startswith(\" \"):\n",
    "                vectors.append(lines[j].strip())\n",
    "vectors = [vector.strip(\"'\") for vector in vectors] # remove '\n",
    "print(vectors)\n"
   ]
  },
  {
   "cell_type": "code",
   "execution_count": null,
   "metadata": {},
   "outputs": [],
   "source": [
    "\n",
    " "
   ]
  },
  {
   "cell_type": "code",
   "execution_count": null,
   "metadata": {},
   "outputs": [],
   "source": []
  }
 ],
 "metadata": {
  "kernelspec": {
   "display_name": "base",
   "language": "python",
   "name": "python3"
  },
  "language_info": {
   "codemirror_mode": {
    "name": "ipython",
    "version": 3
   },
   "file_extension": ".py",
   "mimetype": "text/x-python",
   "name": "python",
   "nbconvert_exporter": "python",
   "pygments_lexer": "ipython3",
   "version": "3.9.13"
  },
  "orig_nbformat": 4
 },
 "nbformat": 4,
 "nbformat_minor": 2
}
